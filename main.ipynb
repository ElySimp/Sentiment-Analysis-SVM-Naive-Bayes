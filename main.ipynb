{
 "cells": [
  {
   "cell_type": "markdown",
   "id": "88b99cc5",
   "metadata": {},
   "source": [
    "# Perbandingan Kinerja Algoritma Support Vector Machine dan Naive Bayes dalam Analisis Sentimen Ulasan Film IMDB\n",
    "\n",
    "Notebook ini mengeksplorasi perbedaan kinerja antara algoritma Support Vector Machine (SVM) dan Naive Bayes pada dataset ulasan film IMDB.\n",
    "\n",
    "## Latar Belakang\n",
    "\n",
    "**Analisis Sentimen** adalah tugas Pemrosesan Bahasa Alami (NLP) yang melibatkan penentuan apakah sebuah teks mengekspresikan sentimen positif, negatif, atau netral. Ini banyak digunakan dalam pemantauan media sosial, analisis umpan balik pelanggan, dan riset pasar.\n",
    "\n",
    "**Dataset IMDB** terdiri dari 50.000 ulasan film yang diberi label positif atau negatif, membuatnya ideal untuk tugas klasifikasi sentimen biner.\n",
    "\n",
    "Kita akan:\n",
    "- Memuat dan memproses data\n",
    "- Melatih dan mengevaluasi kedua model\n",
    "- Membandingkan kekuatan dan kelemahan\n",
    "- Menganalisis kapan setiap algoritma bekerja paling baik atau paling buruk\n"
   ]
  },
  {
   "cell_type": "markdown",
   "id": "b8dcd602",
   "metadata": {},
   "source": [
    "## 1. Import Pustaka yang Diperlukan\n",
    "\n",
    "Sebelum memulai, mari impor pustaka Python yang diperlukan:\n",
    "\n",
    "- **pandas**: Untuk manipulasi dan analisis data\n",
    "- **numpy**: Untuk operasi numerik\n",
    "- **scikit-learn**: Untuk algoritma machine learning, metrik, dan pemrosesan data\n",
    "- **matplotlib & seaborn**: Untuk visualisasi data"
   ]
  },
  {
   "cell_type": "code",
   "execution_count": 2,
   "id": "d289c19a",
   "metadata": {},
   "outputs": [
    {
     "data": {
      "text/plain": [
       "'id_ID.utf8'"
      ]
     },
     "execution_count": 2,
     "metadata": {},
     "output_type": "execute_result"
    }
   ],
   "source": [
    "import pandas as pd\n",
    "import numpy as np\n",
    "from sklearn.model_selection import train_test_split\n",
    "from sklearn.feature_extraction.text import TfidfVectorizer\n",
    "from sklearn.svm import LinearSVC\n",
    "from sklearn.naive_bayes import MultinomialNB\n",
    "from sklearn.metrics import classification_report, accuracy_score, confusion_matrix\n",
    "import matplotlib.pyplot as plt\n",
    "import seaborn as sns\n",
    "\n",
    "# Set style untuk plot agar lebih menarik\n",
    "plt.style.use('ggplot')\n",
    "\n",
    "# Set bahasa Indonesia untuk label\n",
    "import locale\n",
    "locale.setlocale(locale.LC_ALL, 'id_ID.utf8')"
   ]
  },
  {
   "cell_type": "markdown",
   "id": "647c171e",
   "metadata": {},
   "source": [
    "## 2. Memuat dan Mengeksplorasi Dataset IMDB\n",
    "\n",
    "Kita akan menggunakan pandas untuk memuat dataset IMDB yang berisi 50.000 ulasan film dengan label positif atau negatif. Dataset yang seimbang ini sangat cocok untuk tugas klasifikasi sentimen biner.\n",
    "\n",
    "Pertama, mari memuat dataset dan melihat beberapa contoh untuk memahami strukturnya:"
   ]
  },
  {
   "cell_type": "code",
   "execution_count": 3,
   "id": "d2dc3520",
   "metadata": {},
   "outputs": [
    {
     "data": {
      "text/html": [
       "<div>\n",
       "<style scoped>\n",
       "    .dataframe tbody tr th:only-of-type {\n",
       "        vertical-align: middle;\n",
       "    }\n",
       "\n",
       "    .dataframe tbody tr th {\n",
       "        vertical-align: top;\n",
       "    }\n",
       "\n",
       "    .dataframe thead th {\n",
       "        text-align: right;\n",
       "    }\n",
       "</style>\n",
       "<table border=\"1\" class=\"dataframe\">\n",
       "  <thead>\n",
       "    <tr style=\"text-align: right;\">\n",
       "      <th></th>\n",
       "      <th>review</th>\n",
       "      <th>sentiment</th>\n",
       "    </tr>\n",
       "  </thead>\n",
       "  <tbody>\n",
       "    <tr>\n",
       "      <th>0</th>\n",
       "      <td>One of the other reviewers has mentioned that ...</td>\n",
       "      <td>positive</td>\n",
       "    </tr>\n",
       "    <tr>\n",
       "      <th>1</th>\n",
       "      <td>A wonderful little production. &lt;br /&gt;&lt;br /&gt;The...</td>\n",
       "      <td>positive</td>\n",
       "    </tr>\n",
       "    <tr>\n",
       "      <th>2</th>\n",
       "      <td>I thought this was a wonderful way to spend ti...</td>\n",
       "      <td>positive</td>\n",
       "    </tr>\n",
       "    <tr>\n",
       "      <th>3</th>\n",
       "      <td>Basically there's a family where a little boy ...</td>\n",
       "      <td>negative</td>\n",
       "    </tr>\n",
       "    <tr>\n",
       "      <th>4</th>\n",
       "      <td>Petter Mattei's \"Love in the Time of Money\" is...</td>\n",
       "      <td>positive</td>\n",
       "    </tr>\n",
       "  </tbody>\n",
       "</table>\n",
       "</div>"
      ],
      "text/plain": [
       "                                              review sentiment\n",
       "0  One of the other reviewers has mentioned that ...  positive\n",
       "1  A wonderful little production. <br /><br />The...  positive\n",
       "2  I thought this was a wonderful way to spend ti...  positive\n",
       "3  Basically there's a family where a little boy ...  negative\n",
       "4  Petter Mattei's \"Love in the Time of Money\" is...  positive"
      ]
     },
     "execution_count": 3,
     "metadata": {},
     "output_type": "execute_result"
    }
   ],
   "source": [
    "# Memuat dataset\n",
    "data_imdb = pd.read_csv('IMDB Dataset.csv')\n",
    "data_imdb.head()"
   ]
  },
  {
   "cell_type": "markdown",
   "id": "4643f0fa",
   "metadata": {},
   "source": [
    "### Eksplorasi Data\n",
    "\n",
    "Mari kita teliti dataset kita lebih dekat untuk memahami struktur dan karakteristiknya:"
   ]
  },
  {
   "cell_type": "markdown",
   "id": "bfe6fc9a",
   "metadata": {},
   "source": [
    "## 3. Pra-pemrosesan Data\n",
    "\n",
    "Data teks memerlukan langkah-langkah pra-pemrosesan khusus sebelum kita dapat menerapkan algoritma machine learning:\n",
    "\n",
    "### Mengapa pra-pemrosesan penting:\n",
    "- Teks mentah tidak dapat langsung dimasukkan ke algoritma ML\n",
    "- Kita perlu mengkonversi teks ke fitur numerik\n",
    "- Menghilangkan noise (seperti stop words) meningkatkan performa model\n",
    "\n",
    "### Langkah-langkah yang akan kita lakukan:\n",
    "- **Periksa nilai yang hilang**: Memastikan kualitas data\n",
    "- **Encode label**: Mengubah label teks menjadi format numerik (positif=1, negatif=0)\n",
    "- **Membagi data**: Membuat set pelatihan dan pengujian\n",
    "- **Vektorisasi teks**: Mengubah teks menjadi fitur numerik menggunakan TF-IDF"
   ]
  },
  {
   "cell_type": "code",
   "execution_count": 4,
   "id": "1f3e814d",
   "metadata": {},
   "outputs": [
    {
     "name": "stdout",
     "output_type": "stream",
     "text": [
      "Ukuran dataset: (50000, 2)\n",
      "\n",
      "Distribusi kelas:\n",
      "sentiment\n",
      "positive    25000\n",
      "negative    25000\n",
      "Name: count, dtype: int64\n",
      "\n",
      "Contoh ulasan positif:\n",
      "One of the other reviewers has mentioned that after watching just 1 Oz episode you'll be hooked. They are right, as this is exactly what happened with me.<br /><br />The first thing that struck me about Oz was its brutality and unflinching scenes of violence, which set in right from the word GO. Trust me, this is not a show for the faint hearted or timid. This show pulls no punches with regards to drugs, sex or violence. Its is hardcore, in the classic use of the word.<br /><br />It is called OZ...\n",
      "\n",
      "Contoh ulasan negatif:\n",
      "Basically there's a family where a little boy (Jake) thinks there's a zombie in his closet & his parents are fighting all the time.<br /><br />This movie is slower than a soap opera... and suddenly, Jake decides to become Rambo and kill the zombie.<br /><br />OK, first of all when you're going to make a film you must Decide if its a thriller or a drama! As a drama the movie is watchable. Parents are divorcing & arguing like in real life. And then we have Jake with his closet which totally ruins ...\n"
     ]
    }
   ],
   "source": [
    "# Memeriksa ukuran dataset\n",
    "print(f\"Ukuran dataset: {data_imdb.shape}\")\n",
    "\n",
    "# Memeriksa distribusi kelas\n",
    "distribusi_sentimen = data_imdb['sentiment'].value_counts()\n",
    "print(\"\\nDistribusi kelas:\")\n",
    "print(distribusi_sentimen)\n",
    "\n",
    "# Menampilkan contoh ulasan positif dan negatif\n",
    "contoh_positif = data_imdb[data_imdb['sentiment'] == 'positive']['review'].iloc[0]\n",
    "contoh_negatif = data_imdb[data_imdb['sentiment'] == 'negative']['review'].iloc[0]\n",
    "\n",
    "print(\"\\nContoh ulasan positif:\")\n",
    "print(contoh_positif[:500] + \"...\")\n",
    "\n",
    "print(\"\\nContoh ulasan negatif:\")\n",
    "print(contoh_negatif[:500] + \"...\")"
   ]
  },
  {
   "cell_type": "code",
   "execution_count": 5,
   "id": "c78f44f2",
   "metadata": {},
   "outputs": [
    {
     "name": "stdout",
     "output_type": "stream",
     "text": [
      "review       0\n",
      "sentiment    0\n",
      "dtype: int64\n"
     ]
    }
   ],
   "source": [
    "# Check for missing values\n",
    "print(data_imdb.isnull().sum())\n",
    "\n",
    "# Encode labels: positive=1, negative=0\n",
    "data_imdb['sentiment'] = data_imdb['sentiment'].map({'positive': 1, 'negative': 0})\n",
    "\n",
    "# Split data\n",
    "X_train, X_test, y_train, y_test = train_test_split(data_imdb['review'], data_imdb['sentiment'], test_size=0.2, random_state=42, stratify=data_imdb['sentiment'])\n",
    "\n",
    "# Vectorize text using TF-IDF\n",
    "vectorizer = TfidfVectorizer(stop_words='english', max_features=10000)\n",
    "X_train_vec = vectorizer.fit_transform(X_train)\n",
    "X_test_vec = vectorizer.transform(X_test)"
   ]
  },
  {
   "cell_type": "markdown",
   "id": "fca7e680",
   "metadata": {},
   "source": [
    "### Memahami Vektorisasi TF-IDF\n",
    "\n",
    "TF-IDF (Term Frequency-Inverse Document Frequency) adalah statistik numerik yang mencerminkan betapa pentingnya sebuah kata dalam dokumen dari suatu koleksi.\n",
    "\n",
    "- **Term Frequency (TF)**: Seberapa sering sebuah kata muncul dalam dokumen\n",
    "- **Inverse Document Frequency (IDF)**: Menurunkan bobot kata-kata yang sering muncul di banyak dokumen\n",
    "\n",
    "TF-IDF = TF × IDF\n",
    "\n",
    "Mengapa TF-IDF berguna:\n",
    "- Mengurangi dampak kata-kata umum (seperti \"yang\", \"dan\")\n",
    "- Memberikan bobot lebih tinggi pada kata-kata yang unik untuk dokumen tertentu\n",
    "- Menciptakan representasi matriks sparse yang bekerja baik dengan banyak algoritma ML"
   ]
  },
  {
   "cell_type": "markdown",
   "id": "107fad11",
   "metadata": {},
   "source": [
    "## 4. Melatih dan Mengevaluasi Classifier SVM\n",
    "\n",
    "### Support Vector Machine (SVM)\n",
    "\n",
    "SVM adalah algoritma pembelajaran terawasi yang kuat yang digunakan untuk tugas klasifikasi dan regresi.\n",
    "\n",
    "**Bagaimana SVM bekerja:**\n",
    "- Menemukan hyperplane optimal yang paling baik memisahkan titik data dari kelas berbeda\n",
    "- Hyperplane optimal memaksimalkan margin antara kelas\n",
    "- LinearSVC adalah implementasi SVM linear yang dioptimalkan untuk masalah multi-kelas\n",
    "\n",
    "**Keunggulan SVM untuk klasifikasi teks:**\n",
    "- Bekerja baik dalam ruang berdimensi tinggi (seperti data teks dengan banyak fitur)\n",
    "- Efektif ketika jumlah dimensi melebihi jumlah sampel\n",
    "- Efisien memori karena hanya menggunakan subset poin pelatihan (support vectors)\n",
    "\n",
    "Mari kita latih model SVM dan evaluasi kinerjanya:"
   ]
  },
  {
   "cell_type": "code",
   "execution_count": 12,
   "id": "ff2ec915",
   "metadata": {},
   "outputs": [
    {
     "name": "stdout",
     "output_type": "stream",
     "text": [
      "Laporan Klasifikasi SVM:\n",
      "              precision    recall  f1-score   support\n",
      "\n",
      "           0       0.89      0.88      0.89      5000\n",
      "           1       0.89      0.89      0.89      5000\n",
      "\n",
      "    accuracy                           0.89     10000\n",
      "   macro avg       0.89      0.89      0.89     10000\n",
      "weighted avg       0.89      0.89      0.89     10000\n",
      "\n",
      "Akurasi SVM: 0.888\n"
     ]
    }
   ],
   "source": [
    "# Melatih model SVM\n",
    "svm = LinearSVC(random_state=42)\n",
    "svm.fit(X_train_vec, y_train)\n",
    "\n",
    "# Prediksi dan evaluasi\n",
    "y_pred_svm = svm.predict(X_test_vec)\n",
    "print('Laporan Klasifikasi SVM:')\n",
    "print(classification_report(y_test, y_pred_svm))\n",
    "print('Akurasi SVM:', accuracy_score(y_test, y_pred_svm))"
   ]
  },
  {
   "cell_type": "markdown",
   "id": "89d5a528",
   "metadata": {},
   "source": [
    "## 5. Melatih dan Mengevaluasi Classifier Naive Bayes\n",
    "\n",
    "### Naive Bayes\n",
    "\n",
    "Naive Bayes adalah classifier probabilistik berdasarkan penerapan teorema Bayes dengan asumsi \"naive\" tentang independensi antar fitur.\n",
    "\n",
    "**Bagaimana Naive Bayes bekerja:**\n",
    "- Menggunakan teorema Bayes: P(y|X) = P(X|y) * P(y) / P(X)\n",
    "- \"Naive\" karena mengasumsikan semua fitur independen (tidak selalu benar dalam data nyata)\n",
    "- MultinomialNB dirancang khusus untuk fitur diskrit seperti hitungan kata\n",
    "\n",
    "**Keunggulan Naive Bayes untuk klasifikasi teks:**\n",
    "- Sederhana dan cepat dilatih\n",
    "- Membutuhkan lebih sedikit data pelatihan\n",
    "- Bekerja baik untuk masalah klasifikasi teks\n",
    "- Dapat menangani data berdimensi tinggi secara efisien\n",
    "\n",
    "Mari kita latih model Naive Bayes dan evaluasi kinerjanya:"
   ]
  },
  {
   "cell_type": "code",
   "execution_count": 7,
   "id": "54fb0e92",
   "metadata": {},
   "outputs": [
    {
     "name": "stdout",
     "output_type": "stream",
     "text": [
      "Laporan Klasifikasi Naive Bayes:\n",
      "              precision    recall  f1-score   support\n",
      "\n",
      "           0       0.86      0.86      0.86      5000\n",
      "           1       0.86      0.86      0.86      5000\n",
      "\n",
      "    accuracy                           0.86     10000\n",
      "   macro avg       0.86      0.86      0.86     10000\n",
      "weighted avg       0.86      0.86      0.86     10000\n",
      "\n",
      "Akurasi Naive Bayes: 0.858\n"
     ]
    }
   ],
   "source": [
    "# Melatih model Naive Bayes\n",
    "nb = MultinomialNB()\n",
    "nb.fit(X_train_vec, y_train)\n",
    "\n",
    "# Prediksi dan evaluasi\n",
    "y_pred_nb = nb.predict(X_test_vec)\n",
    "print('Laporan Klasifikasi Naive Bayes:')\n",
    "print(classification_report(y_test, y_pred_nb))\n",
    "print('Akurasi Naive Bayes:', accuracy_score(y_test, y_pred_nb))"
   ]
  },
  {
   "cell_type": "markdown",
   "id": "a06326bf",
   "metadata": {},
   "source": [
    "### Memahami Metrik Evaluasi\n",
    "\n",
    "Laporan klasifikasi di atas berisi beberapa metrik penting:\n",
    "\n",
    "- **Presisi**: Dari semua instance yang diprediksi positif, berapa banyak yang benar-benar positif? \n",
    "  - Rumus: TP / (TP + FP)\n",
    "  - Presisi tinggi berarti tingkat false positive rendah\n",
    "\n",
    "- **Recall**: Dari semua instance positif aktual, berapa banyak yang kita prediksi dengan benar? \n",
    "  - Rumus: TP / (TP + FN)\n",
    "  - Recall tinggi berarti tingkat false negative rendah\n",
    "\n",
    "- **F1-score**: Rata-rata harmonik presisi dan recall\n",
    "  - Rumus: 2 * (Presisi * Recall) / (Presisi + Recall)\n",
    "  - Menyeimbangkan presisi dan recall\n",
    "\n",
    "- **Akurasi**: Ketepatan keseluruhan dari semua prediksi\n",
    "  - Rumus: (TP + TN) / (TP + TN + FP + FN)\n",
    "\n",
    "Dimana:\n",
    "- TP = True Positives (Positif Benar)\n",
    "- TN = True Negatives (Negatif Benar)\n",
    "- FP = False Positives (Positif Salah)\n",
    "- FN = False Negatives (Negatif Salah)"
   ]
  },
  {
   "cell_type": "markdown",
   "id": "0c8a99f8",
   "metadata": {},
   "source": [
    "## 6. Membandingkan Kinerja: Matriks Konfusi\n",
    "\n",
    "### Apa itu Matriks Konfusi?\n",
    "\n",
    "Matriks konfusi adalah tabel yang digunakan untuk mendeskripsikan kinerja model klasifikasi dengan menunjukkan hitungan:\n",
    "\n",
    "- **True Positives (TP)**: Kasus positif yang diprediksi dengan benar\n",
    "- **True Negatives (TN)**: Kasus negatif yang diprediksi dengan benar\n",
    "- **False Positives (FP)**: Kasus negatif yang salah diprediksi sebagai positif (Kesalahan Tipe I)\n",
    "- **False Negatives (FN)**: Kasus positif yang salah diprediksi sebagai negatif (Kesalahan Tipe II)\n",
    "\n",
    "Visualisasi matriks konfusi membantu kita memahami:\n",
    "- Kelas mana yang model berkinerja baik\n",
    "- Kelas mana yang model kesulitan\n",
    "- Jenis kesalahan yang dibuat model\n",
    "\n",
    "Mari kita bandingkan matriks konfusi untuk kedua model:"
   ]
  },
  {
   "cell_type": "code",
   "execution_count": 8,
   "id": "4d622649",
   "metadata": {},
   "outputs": [
    {
     "data": {
      "image/png": "[encoded data removed]",
      "text/plain": [
       "<Figure size 1200x500 with 4 Axes>"
      ]
     },
     "metadata": {},
     "output_type": "display_data"
    }
   ],
   "source": [
    "# Membuat plot matriks konfusi\n",
    "fig, axes = plt.subplots(1, 2, figsize=(12, 5))\n",
    "sns.heatmap(confusion_matrix(y_test, y_pred_svm), annot=True, fmt='d', ax=axes[0], cmap='Blues')\n",
    "axes[0].set_title('Matriks Konfusi SVM')\n",
    "axes[0].set_xlabel('Prediksi')\n",
    "axes[0].set_ylabel('Aktual')\n",
    "\n",
    "sns.heatmap(confusion_matrix(y_test, y_pred_nb), annot=True, fmt='d', ax=axes[1], cmap='Greens')\n",
    "axes[1].set_title('Matriks Konfusi Naive Bayes')\n",
    "axes[1].set_xlabel('Prediksi')\n",
    "axes[1].set_ylabel('Aktual')\n",
    "\n",
    "plt.tight_layout()\n",
    "plt.show()"
   ]
  },
  {
   "cell_type": "markdown",
   "id": "33d4d402",
   "metadata": {},
   "source": [
    "## 7. Diskusi: Kapan SVM atau Naive Bayes Terbaik/Terburuk?\n",
    "\n",
    "### Perbandingan Teoretis\n",
    "\n",
    "#### Support Vector Machine (SVM)\n",
    "\n",
    "**Kasus terbaik:**\n",
    "- Ruang berdimensi tinggi dengan margin yang jelas antar kelas\n",
    "- Ketika memiliki lebih sedikit sampel daripada dimensi\n",
    "- Ketika data dapat dipisahkan secara linear (LinearSVC)\n",
    "- Ketika akurasi tinggi lebih penting daripada kecepatan pelatihan\n",
    "- Ketika batas keputusan perlu presisi\n",
    "\n",
    "**Kasus terburuk:**\n",
    "- Dataset yang sangat besar (pelatihan lambat)\n",
    "- Dataset dengan noise signifikan dan kelas yang tumpang tindih\n",
    "- Ketika kecepatan pelatihan sangat penting\n",
    "- Ketika output probabilistik diperlukan (SVM tidak secara alami menghasilkan probabilitas)\n",
    "\n",
    "#### Naive Bayes\n",
    "\n",
    "**Kasus terbaik:**\n",
    "- Klasifikasi teks dan kategorisasi dokumen\n",
    "- Ketika kecepatan pelatihan sangat penting\n",
    "- Dataset pelatihan yang lebih kecil\n",
    "- Ketika asumsi independensi fitur sebagian besar terpenuhi\n",
    "- Skenario prediksi real-time\n",
    "- Ketika output probabilistik diperlukan\n",
    "\n",
    "**Kasus terburuk:**\n",
    "- Ketika fitur sangat berkorelasi (melanggar asumsi independensi)\n",
    "- Ketika distribusi fitur berbeda secara signifikan dari distribusi yang diasumsikan\n",
    "- Ketika akurasi maksimum adalah tujuan utama (sering kurang akurat daripada SVM)\n",
    "\n",
    "### Analisis Hasil pada Dataset IMDB\n",
    "\n",
    "Berdasarkan eksperimen kita dengan dataset IMDB, Anda dapat menganalisis:\n",
    "\n",
    "1. **Akurasi Keseluruhan**: Bandingkan model mana yang mencapai akurasi lebih tinggi dan dengan margin berapa\n",
    "\n",
    "2. **Kinerja Spesifik Kelas**: Apakah salah satu model berkinerja lebih baik pada ulasan positif vs negatif?\n",
    "\n",
    "3. **Pola Kesalahan Klasifikasi**: Periksa matriks konfusi untuk mengidentifikasi apakah salah satu model memiliki kelemahan spesifik\n",
    "\n",
    "4. **Efisiensi**: Pertimbangkan perbedaan waktu pelatihan dan bagaimana hal itu dapat memengaruhi aplikasi dunia nyata\n",
    "\n",
    "5. **Implikasi Praktis**: Diskusikan model mana yang akan Anda pilih untuk sistem analisis sentimen produksi dan mengapa\n",
    "\n",
    "**Analisis laporan klasifikasi dan matriks konfusi di atas untuk melengkapi jurnal Anda dengan kekuatan dan kelemahan spesifik yang diamati dalam dataset ini.**\n",
    "\n",
    "### Ide Eksplorasi Lebih Lanjut\n",
    "\n",
    "1. **Tuning Hyperparameter**: Coba nilai C yang berbeda untuk SVM atau alpha untuk Naive Bayes\n",
    "\n",
    "2. **Rekayasa Fitur**: Bereksperimen dengan pendekatan vektorisasi yang berbeda (Count Vectorizer, Word2Vec, dll)\n",
    "\n",
    "3. **Pra-pemrosesan Data**: Tambahkan langkah-langkah seperti lemmatisasi atau stemming untuk melihat apakah mereka meningkatkan kinerja\n",
    "\n",
    "4. **Metode Ensemble**: Gabungkan kedua model untuk melihat apakah Anda bisa mendapatkan kinerja yang lebih baik\n",
    "\n",
    "5. **Model Lanjutan**: Bandingkan dengan pendekatan yang lebih modern seperti BERT atau model berbasis transformer lainnya"
   ]
  },
  {
   "cell_type": "code",
   "execution_count": 9,
   "id": "fe930117",
   "metadata": {},
   "outputs": [
    {
     "data": {
      "image/png": "[encoded data removed]",
      "text/plain": [
       "<Figure size 1500x1000 with 4 Axes>"
      ]
     },
     "metadata": {},
     "output_type": "display_data"
    }
   ],
   "source": [
    "# Menyiapkan metrik untuk perbandingan\n",
    "models = ['SVM', 'Naive Bayes']\n",
    "\n",
    "# Mendapatkan skor akurasi\n",
    "accuracies = [accuracy_score(y_test, y_pred_svm), accuracy_score(y_test, y_pred_nb)]\n",
    "\n",
    "# Mendapatkan presisi, recall dan f1-score untuk setiap kelas\n",
    "from sklearn.metrics import precision_score, recall_score, f1_score\n",
    "\n",
    "precisions_pos = [precision_score(y_test, y_pred_svm, pos_label=1), precision_score(y_test, y_pred_nb, pos_label=1)]\n",
    "precisions_neg = [precision_score(y_test, y_pred_svm, pos_label=0), precision_score(y_test, y_pred_nb, pos_label=0)]\n",
    "\n",
    "recalls_pos = [recall_score(y_test, y_pred_svm, pos_label=1), recall_score(y_test, y_pred_nb, pos_label=1)]\n",
    "recalls_neg = [recall_score(y_test, y_pred_svm, pos_label=0), recall_score(y_test, y_pred_nb, pos_label=0)]\n",
    "\n",
    "f1_pos = [f1_score(y_test, y_pred_svm, pos_label=1), f1_score(y_test, y_pred_nb, pos_label=1)]\n",
    "f1_neg = [f1_score(y_test, y_pred_svm, pos_label=0), f1_score(y_test, y_pred_nb, pos_label=0)]\n",
    "\n",
    "# Membuat plot perbandingan\n",
    "fig, axes = plt.subplots(2, 2, figsize=(15, 10))\n",
    "\n",
    "# Plot 1: Perbandingan akurasi\n",
    "axes[0, 0].bar(models, accuracies, color=['blue', 'green'])\n",
    "axes[0, 0].set_title('Perbandingan Akurasi')\n",
    "axes[0, 0].set_ylim([0, 1])\n",
    "for i, v in enumerate(accuracies):\n",
    "    axes[0, 0].text(i, v + 0.01, f'{v:.4f}', ha='center')\n",
    "\n",
    "# Plot 2: Perbandingan presisi\n",
    "x = np.arange(len(models))\n",
    "width = 0.35\n",
    "axes[0, 1].bar(x - width/2, precisions_pos, width, label='Positif', color='lightblue')\n",
    "axes[0, 1].bar(x + width/2, precisions_neg, width, label='Negatif', color='salmon')\n",
    "axes[0, 1].set_title('Perbandingan Presisi')\n",
    "axes[0, 1].set_xticks(x)\n",
    "axes[0, 1].set_xticklabels(models)\n",
    "axes[0, 1].set_ylim([0, 1])\n",
    "axes[0, 1].legend()\n",
    "\n",
    "# Plot 3: Perbandingan recall\n",
    "axes[1, 0].bar(x - width/2, recalls_pos, width, label='Positif', color='lightblue')\n",
    "axes[1, 0].bar(x + width/2, recalls_neg, width, label='Negatif', color='salmon')\n",
    "axes[1, 0].set_title('Perbandingan Recall')\n",
    "axes[1, 0].set_xticks(x)\n",
    "axes[1, 0].set_xticklabels(models)\n",
    "axes[1, 0].set_ylim([0, 1])\n",
    "axes[1, 0].legend()\n",
    "\n",
    "# Plot 4: Perbandingan F1-score\n",
    "axes[1, 1].bar(x - width/2, f1_pos, width, label='Positif', color='lightblue')\n",
    "axes[1, 1].bar(x + width/2, f1_neg, width, label='Negatif', color='salmon')\n",
    "axes[1, 1].set_title('Perbandingan F1-Score')\n",
    "axes[1, 1].set_xticks(x)\n",
    "axes[1, 1].set_xticklabels(models)\n",
    "axes[1, 1].set_ylim([0, 1])\n",
    "axes[1, 1].legend()\n",
    "\n",
    "plt.tight_layout()\n",
    "plt.show()"
   ]
  },
  {
   "cell_type": "markdown",
   "id": "403a5026",
   "metadata": {},
   "source": [
    "### Perbandingan Kinerja: Waktu Pelatihan\n",
    "\n",
    "Satu aspek penting ketika membandingkan algoritma adalah waktu pelatihan. Mari kita ukur berapa lama waktu yang dibutuhkan untuk melatih setiap model:"
   ]
  },
  {
   "cell_type": "code",
   "execution_count": 10,
   "id": "da3b69d8",
   "metadata": {},
   "outputs": [
    {
     "name": "stdout",
     "output_type": "stream",
     "text": [
      "Waktu pelatihan - SVM: 1.5780 detik\n",
      "Waktu pelatihan - Naive Bayes: 0.0268 detik\n",
      "Naive Bayes 58.9x lebih cepat daripada SVM\n"
     ]
    },
    {
     "data": {
      "image/png": "[encoded data removed]",
      "text/plain": [
       "<Figure size 1000x500 with 1 Axes>"
      ]
     },
     "metadata": {},
     "output_type": "display_data"
    }
   ],
   "source": [
    "import time\n",
    "\n",
    "# Reset vectorizer dan dataset untuk memastikan perbandingan adil\n",
    "vectorizer = TfidfVectorizer(stop_words='english', max_features=10000)\n",
    "X_train_vec = vectorizer.fit_transform(X_train)\n",
    "X_test_vec = vectorizer.transform(X_test)\n",
    "\n",
    "# Mengukur waktu pelatihan SVM\n",
    "svm_start = time.time()\n",
    "svm = LinearSVC(random_state=42)\n",
    "svm.fit(X_train_vec, y_train)\n",
    "svm_time = time.time() - svm_start\n",
    "\n",
    "# Mengukur waktu pelatihan Naive Bayes\n",
    "nb_start = time.time()\n",
    "nb = MultinomialNB()\n",
    "nb.fit(X_train_vec, y_train)\n",
    "nb_time = time.time() - nb_start\n",
    "\n",
    "# Menampilkan hasil\n",
    "print(f\"Waktu pelatihan - SVM: {svm_time:.4f} detik\")\n",
    "print(f\"Waktu pelatihan - Naive Bayes: {nb_time:.4f} detik\")\n",
    "print(f\"Naive Bayes {svm_time/nb_time:.1f}x lebih cepat daripada SVM\")\n",
    "\n",
    "# Plot perbandingan waktu pelatihan\n",
    "plt.figure(figsize=(10, 5))\n",
    "plt.bar(['SVM', 'Naive Bayes'], [svm_time, nb_time], color=['blue', 'green'])\n",
    "plt.title('Perbandingan Waktu Pelatihan (semakin rendah semakin baik)')\n",
    "plt.ylabel('Waktu (detik)')\n",
    "for i, v in enumerate([svm_time, nb_time]):\n",
    "    plt.text(i, v + 0.1, f'{v:.4f}s', ha='center')\n",
    "plt.show()"
   ]
  },
  {
   "cell_type": "markdown",
   "id": "0d58c868",
   "metadata": {},
   "source": [
    "## 8. Kesimpulan\n",
    "\n",
    "Dalam notebook ini, kita telah melakukan perbandingan komprehensif antara algoritma SVM dan Naive Bayes untuk analisis sentimen pada dataset ulasan film IMDB. Kita telah menganalisis kinerja mereka dalam hal akurasi, presisi, recall, F1-score, dan waktu pelatihan.\n",
    "\n",
    "Poin penting:\n",
    "\n",
    "1. Kedua algoritma mampu melakukan analisis sentimen pada data teks, tetapi dengan kekuatan dan kelemahan yang berbeda\n",
    "\n",
    "2. Keputusan algoritma mana yang akan digunakan tergantung pada persyaratan spesifik seperti kebutuhan akurasi, batasan waktu pelatihan, ukuran dataset, dan independensi fitur\n",
    "\n",
    "3. Memahami trade-off ini sangat penting untuk memilih algoritma yang tepat untuk tugas NLP tertentu\n",
    "\n",
    "Perbandingan ini memberikan wawasan berharga bagi praktisi machine learning yang bekerja pada masalah klasifikasi teks dan tugas analisis sentimen."
   ]
  }
 ],
 "metadata": {
  "kernelspec": {
   "display_name": "Python 3",
   "language": "python",
   "name": "python3"
  },
  "language_info": {
   "codemirror_mode": {
    "name": "ipython",
    "version": 3
   },
   "file_extension": ".py",
   "mimetype": "text/x-python",
   "name": "python",
   "nbconvert_exporter": "python",
   "pygments_lexer": "ipython3",
   "version": "3.11.9"
  }
 },
 "nbformat": 4,
 "nbformat_minor": 5
}
